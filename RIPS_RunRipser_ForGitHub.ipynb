{
 "cells": [
  {
   "cell_type": "code",
   "execution_count": 1,
   "id": "4617ed86-0115-40e0-956b-e847dc2b7211",
   "metadata": {},
   "outputs": [],
   "source": [
    "import pandas\n",
    "import numpy as np\n",
    "from matplotlib import pyplot as plt\n",
    "from matplotlib import colors\n",
    "import cProfile\n",
    "import random\n",
    "from ripser import ripser\n",
    "from persim import plot_diagrams\n",
    "import os\n",
    "from os.path import join, isfile, exists"
   ]
  },
  {
   "cell_type": "code",
   "execution_count": null,
   "id": "e644f6dc-6f01-48d3-b77e-cd01426bf930",
   "metadata": {
    "tags": []
   },
   "outputs": [],
   "source": [
    "#for a given timepoint, computes the persistent homology of all samples\n",
    "#    at that timepoint\n",
    "#note that the function assumes the timepoint data files are stored\n",
    "#    in folders according to timepoint\n",
    "#also, the files contained the homology are stored in folders by timepoint\n",
    "#-dataFolder, parent directory of timepoint folders\n",
    "#-xName, column name of x-coordinate values in file\n",
    "#-yName, column name of y-coordinate values in file\n",
    "#-outFol0, name of parent directory of dimension 0 homology folders\n",
    "#-outFol1, name of parent directory of dimension 1 homology folders\n",
    "#-mkDgm, string that will be the filename of the graph of the homology\n",
    "#    set to 0 if no such graph is desired\n",
    "#-xName, column name of x-coordinate values in file\n",
    "#-yName, column name of y-coordinate values in file\n",
    "def createDiagram(tmpt,condFile,dataFolder,outFol0,outFol1,mkDgm = 0,xName='xval',yName = 'yval')\n",
    "    InDict = {}\n",
    "    folder_path = dataFolder+'/'+timepoint\n",
    "    files = [f for f in os.listdir(folder_path) if isfile(join(folder_path, f))]\n",
    "    for file in files:\n",
    "        currKey = file[:-4]        \n",
    "        try:\n",
    "            file_path = os.path.join(folder_path, file)\n",
    "            currDF = pandas.read_csv(file_path)\n",
    "            currSamp = [currDF[xName].tolist(),currDF[yName].tolist()]\n",
    "            forRipser = np.array([[currSamp[0][j],currSamp[1][j]] for j in range(len(currSamp[0]))])\n",
    "            theDiagrams = ripser(forRipser)['dgms']\n",
    "            dgms0 = [j for j in theDiagrams[0] if (j[0]!=np.Inf and j[1]!=np.Inf)]\n",
    "            dgms1 = [j for j in theDiagrams[1] if (j[0]!=np.Inf and j[1]!=np.Inf)]\n",
    "        \n",
    "            if mkDgm != 0:\n",
    "                limrangeReg =np.array([150,np.array([k[1] for k in dgms0]).max(),np.array([k[1] for k in dgms1]).max()]).max()\n",
    "                figl = plt.figure()\n",
    "                plot_diagrams(theDiagrams, xy_range = [-1,limrangeReg,-1,limrangeReg], show=True)\n",
    "                figl.savefig(mkDgm+'.png',bbox_inches='tight')\n",
    "        \n",
    "            df0 = pandas.DataFrame(data = {'starts':[j[0] for j in dgms0], 'ends':[j[1] for j in dgms0]})\n",
    "            df0.to_csv(outFol0+'/'+tmpt+'/'+currKey+'.csv', index = False) \n",
    "            df1 = pandas.DataFrame(data = {'starts':[j[0] for j in dgms1], 'ends':[j[1] for j in dgms1]})\n",
    "            df1.to_csv(outFol1+'/'+tmpt+'/'+currKey+'.csv', index = False)\n",
    "        except:\n",
    "            pass"
   ]
  }
 ],
 "metadata": {
  "kernelspec": {
   "display_name": "Python 3 (ipykernel)",
   "language": "python",
   "name": "python3"
  },
  "language_info": {
   "codemirror_mode": {
    "name": "ipython",
    "version": 3
   },
   "file_extension": ".py",
   "mimetype": "text/x-python",
   "name": "python",
   "nbconvert_exporter": "python",
   "pygments_lexer": "ipython3",
   "version": "3.12.2"
  }
 },
 "nbformat": 4,
 "nbformat_minor": 5
}
